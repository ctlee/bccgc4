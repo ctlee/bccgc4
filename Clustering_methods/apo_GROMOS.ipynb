{
 "cells": [
  {
   "cell_type": "code",
   "execution_count": null,
   "metadata": {},
   "outputs": [],
   "source": [
    "import mdtraj as md"
   ]
  },
  {
   "cell_type": "code",
   "execution_count": null,
   "metadata": {},
   "outputs": [],
   "source": [
    "#extracting top 10 protein structures from the output file from Gromos\n",
    "#puts each protein strucutre into its own file\n",
    "input_file = open(\"/home/dhkumar/Formatted_Data/Gromos/Gromos_CBA/clusters.pdb\", \"r\")\n",
    "content = input_file.readlines()\n",
    "for i in range(10):\n",
    "    files = open(\"/home/dhkumar/Formatted_Data/Gromos/Gromos_CBA/structures/structure_\"+str(i)+\".txt\",\"w+\")\n",
    "    for z in range(3315):\n",
    "        files.write(content[z+1+(3315)*i])\n",
    "    files.close()"
   ]
  }
 ],
 "metadata": {
  "kernelspec": {
   "display_name": "Python 3",
   "language": "python",
   "name": "python3"
  },
  "language_info": {
   "codemirror_mode": {
    "name": "ipython",
    "version": 3
   },
   "file_extension": ".py",
   "mimetype": "text/x-python",
   "name": "python",
   "nbconvert_exporter": "python",
   "pygments_lexer": "ipython3",
   "version": "3.7.6"
  }
 },
 "nbformat": 4,
 "nbformat_minor": 4
}
