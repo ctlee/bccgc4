{
 "cells": [
  {
   "cell_type": "code",
   "execution_count": null,
   "metadata": {},
   "outputs": [],
   "source": [
    "#Doing PCA with the entire protein-ligand cocrystal traj and on backbone atom distances"
   ]
  },
  {
   "cell_type": "code",
   "execution_count": 1,
   "metadata": {},
   "outputs": [
    {
     "name": "stdout",
     "output_type": "stream",
     "text": [
      "Populating the interactive namespace from numpy and matplotlib\n"
     ]
    }
   ],
   "source": [
    "import pyemma\n",
    "import glob\n",
    "import numpy as np\n",
    "import pyemma.plots as mplt\n",
    "%pylab inline\n",
    "import mdtraj as md\n",
    "import pyemma.coordinates as coor\n",
    " \n",
    "def average_by_state(dtraj, x, nstates):\n",
    "    assert(len(dtraj) == len(x))\n",
    "    N = len(dtraj)\n",
    "    res = np.zeros((nstates))\n",
    "    for i in range(nstates):\n",
    "        I = np.argwhere(dtraj == i)[:,0]\n",
    "        res[i] = np.mean(x[I])\n",
    "    return res\n",
    " \n",
    "def avg_by_set(x, sets):\n",
    "    # compute mean positions of sets. This is important because of some technical points the set order\n",
    "    # in the coarse-grained TPT object can be different from the input order.\n",
    "    avg = np.zeros(len(sets))\n",
    "    for i in range(len(sets)):\n",
    "        I = list(sets[i])\n",
    "        avg[i] = np.mean(x[I])\n",
    "    return avg\n"
   ]
  },
  {
   "cell_type": "code",
   "execution_count": 12,
   "metadata": {},
   "outputs": [
    {
     "name": "stdout",
     "output_type": "stream",
     "text": [
      "['/net/jam-amaro-shared/bccgc4/CatS_holo_md/joined_md/joined_holo_md_1.nc', '/net/jam-amaro-shared/bccgc4/CatS_holo_md/joined_md/joined_holo_md_2.nc', '/net/jam-amaro-shared/bccgc4/CatS_holo_md/joined_md/joined_holo_md_3.nc', '/net/jam-amaro-shared/bccgc4/CatS_holo_md/joined_md/joined_holo_md_4.nc', '/net/jam-amaro-shared/bccgc4/CatS_holo_md/joined_md/joined_holo_md_5.nc']\n",
      "['ATOM:ACE 0 C 4 x', 'ATOM:ACE 0 C 4 y', 'ATOM:ACE 0 C 4 z', 'ATOM:ILE 1 N 6 x', 'ATOM:ILE 1 N 6 y', 'ATOM:ILE 1 N 6 z', 'ATOM:ILE 1 CA 8 x', 'ATOM:ILE 1 CA 8 y', 'ATOM:ILE 1 CA 8 z', 'ATOM:ILE 1 C 23 x', 'ATOM:ILE 1 C 23 y', 'ATOM:ILE 1 C 23 z', 'ATOM:LEU 2 N 25 x']\n"
     ]
    },
    {
     "data": {
      "application/vnd.jupyter.widget-view+json": {
       "model_id": "1ed7b181a51240fa83555ff967bb7090",
       "version_major": 2,
       "version_minor": 0
      },
      "text/plain": [
       "HBox(children=(FloatProgress(value=0.0, description='Obtaining file info', layout=Layout(flex='2'), max=5.0, s…"
      ]
     },
     "metadata": {},
     "output_type": "display_data"
    },
    {
     "name": "stdout",
     "output_type": "stream",
     "text": [
      "<pyemma.coordinates.data.feature_reader.FeatureReader object at 0x7f3b68b4aa90>\n",
      "trajectory length =  100000\n",
      "number of dimension =  1962\n"
     ]
    }
   ],
   "source": [
    "\n",
    "trajfile = []\n",
    "for i in range(1,6):\n",
    "    path = '/net/jam-amaro-shared/bccgc4/CatS_holo_md/joined_md/joined_holo_md_'+str(i)+'.nc'\n",
    "    trajfile.append(path)\n",
    "print(trajfile)\n",
    "\n",
    "#assigns the features, which in this case is backbone atom positions\n",
    "feat = coor.featurizer('/net/jam-amaro-shared/bccgc4/CatS_holo_md/joined_md/holo_top.h5')\n",
    "feat.add_selection(feat.select_Backbone())\n",
    "print(feat.describe()[:13])\n",
    "\n",
    "#defining the trajs and features without loading into memory\n",
    "inp = coor.source(trajfile, feat)\n",
    "print(inp)\n",
    "print('trajectory length = ',inp.trajectory_length(0))\n",
    "print('number of dimension = ',inp.dimension())\n"
   ]
  },
  {
   "cell_type": "code",
   "execution_count": 18,
   "metadata": {},
   "outputs": [
    {
     "name": "stdout",
     "output_type": "stream",
     "text": [
      "trajectory length =  100000\n"
     ]
    }
   ],
   "source": [
    "print('trajectory length = ',inp.trajectory_length(0))"
   ]
  },
  {
   "cell_type": "code",
   "execution_count": 3,
   "metadata": {},
   "outputs": [
    {
     "data": {
      "application/vnd.jupyter.widget-view+json": {
       "model_id": "c31f4d04efa04056bc9777182af18591",
       "version_major": 2,
       "version_minor": 0
      },
      "text/plain": [
       "HBox(children=(FloatProgress(value=0.0, description='calc mean+cov', layout=Layout(flex='2'), max=15.0, style=…"
      ]
     },
     "metadata": {},
     "output_type": "display_data"
    },
    {
     "name": "stdout",
     "output_type": "stream",
     "text": [
      "\r"
     ]
    }
   ],
   "source": [
    "#running PCA\n",
    "\n",
    "pca_obj = coor.pca(inp, dim= -1, var_cutoff=0.95) # all possible dimensions, execpt those limited by retained variance\n"
   ]
  },
  {
   "cell_type": "code",
   "execution_count": 4,
   "metadata": {},
   "outputs": [
    {
     "data": {
      "application/vnd.jupyter.widget-view+json": {
       "model_id": "2ce20ed353d6496cacc167c3c3ea1e0f",
       "version_major": 2,
       "version_minor": 0
      },
      "text/plain": [
       "HBox(children=(FloatProgress(value=0.0, description='getting output of PCA', layout=Layout(flex='2'), max=15.0…"
      ]
     },
     "metadata": {},
     "output_type": "display_data"
    },
    {
     "name": "stdout",
     "output_type": "stream",
     "text": [
      "\r"
     ]
    },
    {
     "data": {
      "text/plain": [
       "Text(0, 0.5, 'principal comp. 2')"
      ]
     },
     "execution_count": 4,
     "metadata": {},
     "output_type": "execute_result"
    },
    {
     "data": {
      "image/png": "[encoded data removed]",
      "text/plain": [
       "<Figure size 432x288 with 2 Axes>"
      ]
     },
     "metadata": {
      "needs_background": "light"
     },
     "output_type": "display_data"
    }
   ],
   "source": [
    "# this is looking at the first two PC's\n",
    "\n",
    "Ypca = pca_obj.get_output()[0]\n",
    "\n",
    "subplot2grid((2,1),(0,0))\n",
    "plot(Ypca[:,0])\n",
    "ylabel('principal comp. 1')\n",
    "subplot2grid((2,1),(1,0))\n",
    "plot(Ypca[:,1])\n",
    "ylabel('principal comp. 2')"
   ]
  },
  {
   "cell_type": "code",
   "execution_count": 5,
   "metadata": {},
   "outputs": [
    {
     "data": {
      "application/vnd.jupyter.widget-view+json": {
       "model_id": "771e6a9ea75a457597385a3f499b1c44",
       "version_major": 2,
       "version_minor": 0
      },
      "text/plain": [
       "HBox(children=(FloatProgress(value=0.0, description='getting output of PCA', layout=Layout(flex='2'), max=15.0…"
      ]
     },
     "metadata": {},
     "output_type": "display_data"
    },
    {
     "name": "stdout",
     "output_type": "stream",
     "text": [
      "\r"
     ]
    },
    {
     "data": {
      "application/vnd.jupyter.widget-view+json": {
       "model_id": "96fc9cc751004d31887a6e3a2caec43d",
       "version_major": 2,
       "version_minor": 0
      },
      "text/plain": [
       "HBox(children=(FloatProgress(value=0.0, description='initialize kmeans++ centers', layout=Layout(flex='2'), ma…"
      ]
     },
     "metadata": {},
     "output_type": "display_data"
    },
    {
     "data": {
      "application/vnd.jupyter.widget-view+json": {
       "model_id": "816d650029a3422588de8c2dab004bbe",
       "version_major": 2,
       "version_minor": 0
      },
      "text/plain": [
       "HBox(children=(FloatProgress(value=0.0, description='kmeans iterations', layout=Layout(flex='2'), max=5000.0, …"
      ]
     },
     "metadata": {},
     "output_type": "display_data"
    },
    {
     "name": "stdout",
     "output_type": "stream",
     "text": [
      "\r"
     ]
    },
    {
     "data": {
      "text/plain": [
       "True"
      ]
     },
     "execution_count": 5,
     "metadata": {},
     "output_type": "execute_result"
    }
   ],
   "source": [
    "#This is clustering the PCA results by kmeans\n",
    "Ypca = pca_obj.get_output()\n",
    "\n",
    "cl = coor.cluster_kmeans(data=Ypca,k=10,max_iter=5000)\n",
    "\n",
    "cl.converged"
   ]
  },
  {
   "cell_type": "code",
   "execution_count": 6,
   "metadata": {},
   "outputs": [
    {
     "data": {
      "application/vnd.jupyter.widget-view+json": {
       "model_id": "9a33ee483dea472ebae1ea7cad45bdfa",
       "version_major": 2,
       "version_minor": 0
      },
      "text/plain": [
       "HBox(children=(FloatProgress(value=0.0, description='getting output of KmeansClustering', layout=Layout(flex='…"
      ]
     },
     "metadata": {},
     "output_type": "display_data"
    },
    {
     "name": "stdout",
     "output_type": "stream",
     "text": [
      "[array([9, 9, 9, ..., 8, 6, 6], dtype=int32), array([7, 7, 7, ..., 7, 7, 0], dtype=int32), array([3, 3, 3, ..., 3, 3, 3], dtype=int32), array([2, 2, 2, ..., 2, 2, 2], dtype=int32), array([4, 4, 4, ..., 4, 4, 4], dtype=int32)]\n",
      "500000\n"
     ]
    }
   ],
   "source": [
    "#defining discrete trajectories\n",
    "\n",
    "dtrajs = cl.dtrajs\n",
    "print(dtrajs)\n",
    "print(np.size(dtrajs))"
   ]
  },
  {
   "cell_type": "code",
   "execution_count": 7,
   "metadata": {},
   "outputs": [
    {
     "ename": "IndexError",
     "evalue": "index 3 is out of bounds for axis 1 with size 3",
     "output_type": "error",
     "traceback": [
      "\u001b[0;31m---------------------------------------------------------------------------\u001b[0m",
      "\u001b[0;31mIndexError\u001b[0m                                Traceback (most recent call last)",
      "\u001b[0;32m<ipython-input-7-5c53ad6d6655>\u001b[0m in \u001b[0;36m<module>\u001b[0;34m\u001b[0m\n\u001b[1;32m      5\u001b[0m \u001b[0;34m\u001b[0m\u001b[0m\n\u001b[1;32m      6\u001b[0m     \u001b[0;32mfor\u001b[0m \u001b[0mw\u001b[0m \u001b[0;32min\u001b[0m \u001b[0mrange\u001b[0m\u001b[0;34m(\u001b[0m\u001b[0;36m6\u001b[0m\u001b[0;34m)\u001b[0m\u001b[0;34m:\u001b[0m\u001b[0;34m\u001b[0m\u001b[0;34m\u001b[0m\u001b[0m\n\u001b[0;32m----> 7\u001b[0;31m         \u001b[0mmplt\u001b[0m\u001b[0;34m.\u001b[0m\u001b[0mplot_free_energy\u001b[0m\u001b[0;34m(\u001b[0m\u001b[0mnp\u001b[0m\u001b[0;34m.\u001b[0m\u001b[0mvstack\u001b[0m\u001b[0;34m(\u001b[0m\u001b[0mYpca\u001b[0m\u001b[0;34m)\u001b[0m\u001b[0;34m[\u001b[0m\u001b[0;34m:\u001b[0m\u001b[0;34m,\u001b[0m\u001b[0ms\u001b[0m\u001b[0;34m]\u001b[0m\u001b[0;34m,\u001b[0m \u001b[0mnp\u001b[0m\u001b[0;34m.\u001b[0m\u001b[0mvstack\u001b[0m\u001b[0;34m(\u001b[0m\u001b[0mYpca\u001b[0m\u001b[0;34m)\u001b[0m\u001b[0;34m[\u001b[0m\u001b[0;34m:\u001b[0m\u001b[0;34m,\u001b[0m\u001b[0mw\u001b[0m\u001b[0;34m]\u001b[0m\u001b[0;34m,\u001b[0m \u001b[0max\u001b[0m \u001b[0;34m=\u001b[0m \u001b[0max\u001b[0m\u001b[0;34m[\u001b[0m\u001b[0mw\u001b[0m\u001b[0;34m]\u001b[0m\u001b[0;34m,\u001b[0m \u001b[0mcmap\u001b[0m \u001b[0;34m=\u001b[0m \u001b[0;34m'viridis'\u001b[0m\u001b[0;34m)\u001b[0m\u001b[0;31m#, cbar = False, cbar_label = None)\u001b[0m\u001b[0;34m\u001b[0m\u001b[0;34m\u001b[0m\u001b[0m\n\u001b[0m\u001b[1;32m      8\u001b[0m         \u001b[0mcc_x\u001b[0m \u001b[0;34m=\u001b[0m \u001b[0mcl\u001b[0m\u001b[0;34m.\u001b[0m\u001b[0mclustercenters\u001b[0m\u001b[0;34m[\u001b[0m\u001b[0;34m:\u001b[0m\u001b[0;34m,\u001b[0m\u001b[0ms\u001b[0m\u001b[0;34m]\u001b[0m\u001b[0;34m\u001b[0m\u001b[0;34m\u001b[0m\u001b[0m\n\u001b[1;32m      9\u001b[0m         \u001b[0mcc_y\u001b[0m \u001b[0;34m=\u001b[0m \u001b[0mcl\u001b[0m\u001b[0;34m.\u001b[0m\u001b[0mclustercenters\u001b[0m\u001b[0;34m[\u001b[0m\u001b[0;34m:\u001b[0m\u001b[0;34m,\u001b[0m\u001b[0mw\u001b[0m\u001b[0;34m]\u001b[0m\u001b[0;34m\u001b[0m\u001b[0;34m\u001b[0m\u001b[0m\n",
      "\u001b[0;31mIndexError\u001b[0m: index 3 is out of bounds for axis 1 with size 3"
     ]
    },
    {
     "data": {
      "image/png": "[encoded data removed]",
      "text/plain": [
       "<Figure size 1440x244.8 with 9 Axes>"
      ]
     },
     "metadata": {
      "needs_background": "light"
     },
     "output_type": "display_data"
    }
   ],
   "source": [
    "#plotting the free energy in subplots for tics 0-5\n",
    "\n",
    "for s in range(6):\n",
    "    fig, ax = plt.subplots(1, 6, sharex='col', sharey='row', figsize = (20,3.4)) #creating 1x6 subplot grid\n",
    "    \n",
    "    for w in range(6):\n",
    "        mplt.plot_free_energy(np.vstack(Ypca)[:,s], np.vstack(Ypca)[:,w], ax = ax[w], cmap = 'viridis')#, cbar = False, cbar_label = None)\n",
    "        cc_x = cl.clustercenters[:,s]\n",
    "        cc_y = cl.clustercenters[:,w]\n",
    "        #ax[w].plot(cc_x,cc_y, linewidth=0, marker='o', markersize=5, color='red')\n",
    "        colors = ['black','gray','red','saddlebrown','darkorange','gold','darkgreen','aqua','darkviolet','deeppink']\n",
    "        for i in range(10):\n",
    "            ax[w].scatter(cc_x[i], cc_y[i], color = colors[i])\n",
    "    \n",
    "    for a in range(6):\n",
    "        ax[a].set(xlabel = ('PC '+str(a)))\n",
    "        \n",
    "    fig.text(0.001, 0.5, 'PC '+str(s), va = 'center', rotation='vertical')\n",
    "    \n",
    "    fig.suptitle('PCA holo Cluster Centroids',fontsize = 16, y=1.06)\n",
    "    fig.tight_layout()\n",
    "\n",
    "    plt.savefig('/home/jegan/Clustering_methods/PCA/figs/PCA_holo/PCA_holo_FE_PC'+str(s)+'.png', bbox_inches = 'tight')\n"
   ]
  },
  {
   "cell_type": "code",
   "execution_count": 8,
   "metadata": {},
   "outputs": [
    {
     "name": "stdout",
     "output_type": "stream",
     "text": [
      "1962\n",
      "[0.51539027 0.87210041 0.96771325 ... 1.         1.         1.        ]\n",
      "300000\n"
     ]
    }
   ],
   "source": [
    "print(np.size(pca_obj.cumvar))\n",
    "print(pca_obj.cumvar)\n",
    "print(np.size(Ypca[0]))"
   ]
  },
  {
   "cell_type": "code",
   "execution_count": 19,
   "metadata": {},
   "outputs": [
    {
     "name": "stdout",
     "output_type": "stream",
     "text": [
      "[array([9, 9, 9, ..., 8, 6, 6], dtype=int32), array([7, 7, 7, ..., 7, 7, 0], dtype=int32), array([3, 3, 3, ..., 3, 3, 3], dtype=int32), array([2, 2, 2, ..., 2, 2, 2], dtype=int32), array([4, 4, 4, ..., 4, 4, 4], dtype=int32)]\n",
      "[9 9 9 ... 8 6 6]\n",
      "51836\n",
      "20757\n",
      "100000\n",
      "100000\n",
      "100000\n",
      "19571\n",
      "19227\n",
      "48164\n",
      "20212\n",
      "20233\n",
      "500000\n"
     ]
    }
   ],
   "source": [
    "#This prints the discrete trajectories we saved out before, then saves out the percent of frames in each cluster\n",
    "print(dtrajs)\n",
    "print(dtrajs[0])\n",
    "\n",
    "with open('/home/jegan/Clustering_methods/PCA/PCA_holo.txt', 'w') as newfile:\n",
    "    numb = []\n",
    "    for i in range(10):\n",
    "        frames = []\n",
    "        for k in dtrajs:\n",
    "            for p in k:\n",
    "                if p == i:\n",
    "                    frames.append(p)\n",
    "\n",
    "        print(len(frames))\n",
    "        numb.append(len(frames))\n",
    "    \n",
    "    newfile.write('Percent of frames per PCA holo cluster on the prot+lig md:\\n')\n",
    "    tot = 0\n",
    "    index = 0\n",
    "    for j in numb:\n",
    "        tot += j\n",
    "        percent = (j/500000)*100\n",
    "        num = str(percent)\n",
    "        newfile.write('Cluster '+ str(index)+' = '+num+' %\\n')\n",
    "        index += 1\n",
    "    print(tot)\n"
   ]
  },
  {
   "cell_type": "code",
   "execution_count": null,
   "metadata": {},
   "outputs": [],
   "source": [
    "#From here on it's clustering and extracting centroids, as well as saving out the centroid coords"
   ]
  },
  {
   "cell_type": "code",
   "execution_count": 27,
   "metadata": {},
   "outputs": [
    {
     "name": "stdout",
     "output_type": "stream",
     "text": [
      "82249\n",
      "60176\n",
      "77534\n",
      "89983\n",
      "95982\n",
      "126342\n",
      "102122\n",
      "168834\n",
      "337304\n",
      "496350\n"
     ]
    }
   ],
   "source": [
    "#Extracting Centroids\n",
    "\n",
    "avg = [100, 100, 100, 100, 100, 100, 100, 100, 100, 100]\n",
    "\n",
    "indices = {}\n",
    "for i in range(len(Ypca)):\n",
    "    #for k in range(len(Y[0][i])):\n",
    "    for k in range(len(Ypca[i])):\n",
    "        c = cl.clustercenters[cl.dtrajs[i][k]]\n",
    "        v = Ypca[i][k]\n",
    "        newavg = np.linalg.norm(c-v)\n",
    "        if avg[cl.dtrajs[i][k]] > newavg:\n",
    "            avg[cl.dtrajs[i][k]] = newavg\n",
    "            indices[cl.dtrajs[i][k]] = [i, k]\n",
    "            \n",
    "pdb0 = md.load('/home/jegan/final_centroids/XTAL/XTAL_0.pdb')\n",
    "\n",
    "z = 0\n",
    "for key in indices:\n",
    "        z = z + 1\n",
    "        index = indices[key][1]*(1 + indices[key][0])\n",
    "        print(index)\n",
    "        \n",
    "        cen = md.load_frame('/net/jam-amaro-shared/bccgc4/CatS_holo_md/joined_md/entire_holo_md.nc', index, top = '/net/jam-amaro-shared/bccgc4/CatS_holo_md/joined_md/holo_top.h5')\n",
    "        pdb = cen.superpose(pdb0,0)\n",
    "        \n",
    "        pdb.save_pdb('/home/jegan/Clustering_methods/PCA/PCA_holo_centroids/PCA_%s.pdb' % (z-1))"
   ]
  },
  {
   "cell_type": "code",
   "execution_count": null,
   "metadata": {},
   "outputs": [],
   "source": []
  }
 ],
 "metadata": {
  "kernelspec": {
   "display_name": "Python 3",
   "language": "python",
   "name": "python3"
  },
  "language_info": {
   "codemirror_mode": {
    "name": "ipython",
    "version": 3
   },
   "file_extension": ".py",
   "mimetype": "text/x-python",
   "name": "python",
   "nbconvert_exporter": "python",
   "pygments_lexer": "ipython3",
   "version": "3.7.6"
  }
 },
 "nbformat": 4,
 "nbformat_minor": 4
}
