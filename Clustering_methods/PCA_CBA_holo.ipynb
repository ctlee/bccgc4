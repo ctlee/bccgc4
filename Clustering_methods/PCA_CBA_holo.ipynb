{
 "cells": [
  {
   "cell_type": "code",
   "execution_count": null,
   "metadata": {},
   "outputs": [],
   "source": [
    "#Doing PCA with the entire holo traj and on Binding Atoms"
   ]
  },
  {
   "cell_type": "code",
   "execution_count": 1,
   "metadata": {},
   "outputs": [
    {
     "name": "stdout",
     "output_type": "stream",
     "text": [
      "Populating the interactive namespace from numpy and matplotlib\n"
     ]
    }
   ],
   "source": [
    "import pyemma\n",
    "import glob\n",
    "import numpy as np\n",
    "import pyemma.plots as mplt\n",
    "%pylab inline\n",
    "import mdtraj as md\n",
    "import pyemma.coordinates as coor\n",
    " \n",
    "def average_by_state(dtraj, x, nstates):\n",
    "    assert(len(dtraj) == len(x))\n",
    "    N = len(dtraj)\n",
    "    res = np.zeros((nstates))\n",
    "    for i in range(nstates):\n",
    "        I = np.argwhere(dtraj == i)[:,0]\n",
    "        res[i] = np.mean(x[I])\n",
    "    return res\n",
    " \n",
    "def avg_by_set(x, sets):\n",
    "    # compute mean positions of sets. This is important because of some technical points the set order\n",
    "    # in the coarse-grained TPT object can be different from the input order.\n",
    "    avg = np.zeros(len(sets))\n",
    "    for i in range(len(sets)):\n",
    "        I = list(sets[i])\n",
    "        avg[i] = np.mean(x[I])\n",
    "    return avg\n"
   ]
  },
  {
   "cell_type": "code",
   "execution_count": 4,
   "metadata": {},
   "outputs": [
    {
     "name": "stdout",
     "output_type": "stream",
     "text": [
      "['/net/jam-amaro-shared/bccgc4/CatS_holo_md/joined_md/joined_holo_md_1.nc', '/net/jam-amaro-shared/bccgc4/CatS_holo_md/joined_md/joined_holo_md_2.nc', '/net/jam-amaro-shared/bccgc4/CatS_holo_md/joined_md/joined_holo_md_3.nc', '/net/jam-amaro-shared/bccgc4/CatS_holo_md/joined_md/joined_holo_md_4.nc', '/net/jam-amaro-shared/bccgc4/CatS_holo_md/joined_md/joined_holo_md_5.nc']\n"
     ]
    },
    {
     "data": {
      "application/vnd.jupyter.widget-view+json": {
       "model_id": "557569285e3648649c13d97d0ec74f9a",
       "version_major": 2,
       "version_minor": 0
      },
      "text/plain": [
       "HBox(children=(FloatProgress(value=0.0, description='Obtaining file info', layout=Layout(flex='2'), max=5.0, s…"
      ]
     },
     "metadata": {},
     "output_type": "display_data"
    },
    {
     "name": "stdout",
     "output_type": "stream",
     "text": [
      "<pyemma.coordinates.data.feature_reader.FeatureReader object at 0x7fbfc0353310>\n",
      "trajectory length =  100000\n",
      "number of dimension =  483\n"
     ]
    }
   ],
   "source": [
    "#defining the trajectory\n",
    "trajfile = []\n",
    "for i in range(1,6):\n",
    "    path = '/net/jam-amaro-shared/bccgc4/CatS_holo_md/joined_md/joined_holo_md_'+str(i)+'.nc'\n",
    "    trajfile.append(path)\n",
    "print(trajfile)\n",
    "\n",
    "#assigns the features, which in this case is the defined binding atoms\n",
    "feat = coor.featurizer('/net/jam-amaro-shared/bccgc4/CatS_holo_md/joined_md/holo_top.h5')\n",
    "feat.add_selection([1024, 1027, 306, 1029, 1031, 1033, 2851, 1035, 1036, 1037, 1038, 1039, 1034, 1040, 1042, 1043, 1044, 1045, 1041, 2854, 1049, 2076, 311, 1060, 1061, 1062,\n",
    "                              1072, 1074, 1076, 1087, 2112, 2116, 2120, 2122, 2123, 2126, 2135, 323, 2138, 324, 325, 1133, 1134, 1135, 1136, 1137, 2170, 330, 3206, 3207, 3208, 3210, \n",
    "                              334, 3219, 336, 2207, 2209, 2210, 2211, 2213, 2214, 2215, 2217, 2219, 2220, 2221, 3244, 1715, 1716, 1743, 1745, 1747, 1749, 2897, 2837, 328, 329, 2899, 339, 342, 343, 350, 2911, 354, 359, 361, 362, 363, 364, 365, 366, 367, 379, 385, 386, 395, 398, 2449, \n",
    "                              2451, 2452, 2453, 2454, 2455, 2456, 2460, 2465, 2466, 2467, 2468, 2469, 2470, 2471, 2472, 2473, 2474, 2475, 2477, 2478, 941, 2480, 2481, 946, 2834, 944, 2486, \n",
    "                              2487, 2488, 2835, 2492, 2836, 2494, 963, 2838, 2506, 2507, 2508, 2839, 2510, 972, 978, 979, 980, 2841, 2842, 2844, 997, 2845, 1003, 2846, 1008, 1007, 1010, \n",
    "                              1009, 2847, 1012, 1013, 1011, 1016, 1017, 1018, 1022])\n",
    "\n",
    "#defining the trajs and features without loading into memory\n",
    "inp = coor.source(trajfile, feat)\n",
    "print(inp)\n",
    "print('trajectory length = ',inp.trajectory_length(0))\n",
    "print('number of dimension = ',inp.dimension())\n"
   ]
  },
  {
   "cell_type": "code",
   "execution_count": 5,
   "metadata": {},
   "outputs": [
    {
     "data": {
      "application/vnd.jupyter.widget-view+json": {
       "model_id": "c2a550604d5e4bb2828ea247cfbe2c2a",
       "version_major": 2,
       "version_minor": 0
      },
      "text/plain": [
       "HBox(children=(FloatProgress(value=0.0, description='calc mean+cov', layout=Layout(flex='2'), max=5.0, style=P…"
      ]
     },
     "metadata": {},
     "output_type": "display_data"
    },
    {
     "name": "stdout",
     "output_type": "stream",
     "text": [
      "\r"
     ]
    }
   ],
   "source": [
    "#running PCA\n",
    "\n",
    "pca_obj = coor.pca(inp, dim= -1, var_cutoff=0.95) # all possible dimensions, execpt those limited by retained variance\n"
   ]
  },
  {
   "cell_type": "code",
   "execution_count": 6,
   "metadata": {},
   "outputs": [
    {
     "data": {
      "application/vnd.jupyter.widget-view+json": {
       "model_id": "dc17729371dc4753bdd8242df1c95e7c",
       "version_major": 2,
       "version_minor": 0
      },
      "text/plain": [
       "HBox(children=(FloatProgress(value=0.0, description='getting output of PCA', layout=Layout(flex='2'), max=5.0,…"
      ]
     },
     "metadata": {},
     "output_type": "display_data"
    },
    {
     "name": "stdout",
     "output_type": "stream",
     "text": [
      "\r"
     ]
    },
    {
     "data": {
      "text/plain": [
       "Text(0, 0.5, 'principal comp. 2')"
      ]
     },
     "execution_count": 6,
     "metadata": {},
     "output_type": "execute_result"
    },
    {
     "data": {
      "image/png": "[encoded data removed]",
      "text/plain": [
       "<Figure size 432x288 with 2 Axes>"
      ]
     },
     "metadata": {
      "needs_background": "light"
     },
     "output_type": "display_data"
    }
   ],
   "source": [
    "# this is looking at the first two PC's\n",
    "\n",
    "Ypca = pca_obj.get_output()[0]\n",
    "\n",
    "subplot2grid((2,1),(0,0))\n",
    "plot(Ypca[:,0])\n",
    "ylabel('principal comp. 1')\n",
    "subplot2grid((2,1),(1,0))\n",
    "plot(Ypca[:,1])\n",
    "ylabel('principal comp. 2')"
   ]
  },
  {
   "cell_type": "code",
   "execution_count": 7,
   "metadata": {},
   "outputs": [
    {
     "data": {
      "application/vnd.jupyter.widget-view+json": {
       "model_id": "aea2706fb3964fc59c34116770f25b59",
       "version_major": 2,
       "version_minor": 0
      },
      "text/plain": [
       "HBox(children=(FloatProgress(value=0.0, description='getting output of PCA', layout=Layout(flex='2'), max=5.0,…"
      ]
     },
     "metadata": {},
     "output_type": "display_data"
    },
    {
     "name": "stdout",
     "output_type": "stream",
     "text": [
      "\r"
     ]
    },
    {
     "data": {
      "application/vnd.jupyter.widget-view+json": {
       "model_id": "cdd7c61d982a4d93a3aa47d3e0258282",
       "version_major": 2,
       "version_minor": 0
      },
      "text/plain": [
       "HBox(children=(FloatProgress(value=0.0, description='initialize kmeans++ centers', layout=Layout(flex='2'), ma…"
      ]
     },
     "metadata": {},
     "output_type": "display_data"
    },
    {
     "data": {
      "application/vnd.jupyter.widget-view+json": {
       "model_id": "dbe2d1228c62436a9156ccced2541a85",
       "version_major": 2,
       "version_minor": 0
      },
      "text/plain": [
       "HBox(children=(FloatProgress(value=0.0, description='kmeans iterations', layout=Layout(flex='2'), max=5000.0, …"
      ]
     },
     "metadata": {},
     "output_type": "display_data"
    },
    {
     "name": "stdout",
     "output_type": "stream",
     "text": [
      "\r"
     ]
    },
    {
     "data": {
      "text/plain": [
       "True"
      ]
     },
     "execution_count": 7,
     "metadata": {},
     "output_type": "execute_result"
    }
   ],
   "source": [
    "#This is clustering the PCA results by kmeans\n",
    "Ypca = pca_obj.get_output()\n",
    "\n",
    "cl = coor.cluster_kmeans(data=Ypca,k=10,max_iter=5000)\n",
    "\n",
    "cl.converged"
   ]
  },
  {
   "cell_type": "code",
   "execution_count": 8,
   "metadata": {},
   "outputs": [
    {
     "data": {
      "application/vnd.jupyter.widget-view+json": {
       "model_id": "dc3adf3b8f2c4589885afa406d0c9501",
       "version_major": 2,
       "version_minor": 0
      },
      "text/plain": [
       "HBox(children=(FloatProgress(value=0.0, description='getting output of KmeansClustering', layout=Layout(flex='…"
      ]
     },
     "metadata": {},
     "output_type": "display_data"
    },
    {
     "name": "stdout",
     "output_type": "stream",
     "text": [
      "[array([6, 6, 7, ..., 7, 7, 6], dtype=int32), array([0, 0, 0, ..., 0, 0, 0], dtype=int32), array([2, 2, 2, ..., 2, 2, 2], dtype=int32), array([3, 3, 3, ..., 3, 3, 3], dtype=int32), array([4, 4, 8, ..., 4, 4, 8], dtype=int32)]\n",
      "500000\n"
     ]
    }
   ],
   "source": [
    "#defining discrete trajectories\n",
    "\n",
    "dtrajs = cl.dtrajs\n",
    "print(dtrajs)\n",
    "print(np.size(dtrajs))"
   ]
  },
  {
   "cell_type": "code",
   "execution_count": 9,
   "metadata": {},
   "outputs": [
    {
     "ename": "IndexError",
     "evalue": "index 3 is out of bounds for axis 1 with size 3",
     "output_type": "error",
     "traceback": [
      "\u001b[0;31m---------------------------------------------------------------------------\u001b[0m",
      "\u001b[0;31mIndexError\u001b[0m                                Traceback (most recent call last)",
      "\u001b[0;32m<ipython-input-9-19d64c8d74fb>\u001b[0m in \u001b[0;36m<module>\u001b[0;34m\u001b[0m\n\u001b[1;32m      5\u001b[0m \u001b[0;34m\u001b[0m\u001b[0m\n\u001b[1;32m      6\u001b[0m     \u001b[0;32mfor\u001b[0m \u001b[0mw\u001b[0m \u001b[0;32min\u001b[0m \u001b[0mrange\u001b[0m\u001b[0;34m(\u001b[0m\u001b[0;36m6\u001b[0m\u001b[0;34m)\u001b[0m\u001b[0;34m:\u001b[0m\u001b[0;34m\u001b[0m\u001b[0;34m\u001b[0m\u001b[0m\n\u001b[0;32m----> 7\u001b[0;31m         \u001b[0mmplt\u001b[0m\u001b[0;34m.\u001b[0m\u001b[0mplot_free_energy\u001b[0m\u001b[0;34m(\u001b[0m\u001b[0mnp\u001b[0m\u001b[0;34m.\u001b[0m\u001b[0mvstack\u001b[0m\u001b[0;34m(\u001b[0m\u001b[0mYpca\u001b[0m\u001b[0;34m)\u001b[0m\u001b[0;34m[\u001b[0m\u001b[0;34m:\u001b[0m\u001b[0;34m,\u001b[0m\u001b[0ms\u001b[0m\u001b[0;34m]\u001b[0m\u001b[0;34m,\u001b[0m \u001b[0mnp\u001b[0m\u001b[0;34m.\u001b[0m\u001b[0mvstack\u001b[0m\u001b[0;34m(\u001b[0m\u001b[0mYpca\u001b[0m\u001b[0;34m)\u001b[0m\u001b[0;34m[\u001b[0m\u001b[0;34m:\u001b[0m\u001b[0;34m,\u001b[0m\u001b[0mw\u001b[0m\u001b[0;34m]\u001b[0m\u001b[0;34m,\u001b[0m \u001b[0max\u001b[0m \u001b[0;34m=\u001b[0m \u001b[0max\u001b[0m\u001b[0;34m[\u001b[0m\u001b[0mw\u001b[0m\u001b[0;34m]\u001b[0m\u001b[0;34m,\u001b[0m \u001b[0mcmap\u001b[0m \u001b[0;34m=\u001b[0m \u001b[0;34m'viridis'\u001b[0m\u001b[0;34m)\u001b[0m\u001b[0;31m#, cbar = False, cbar_label = None)\u001b[0m\u001b[0;34m\u001b[0m\u001b[0;34m\u001b[0m\u001b[0m\n\u001b[0m\u001b[1;32m      8\u001b[0m         \u001b[0mcc_x\u001b[0m \u001b[0;34m=\u001b[0m \u001b[0mcl\u001b[0m\u001b[0;34m.\u001b[0m\u001b[0mclustercenters\u001b[0m\u001b[0;34m[\u001b[0m\u001b[0;34m:\u001b[0m\u001b[0;34m,\u001b[0m\u001b[0ms\u001b[0m\u001b[0;34m]\u001b[0m\u001b[0;34m\u001b[0m\u001b[0;34m\u001b[0m\u001b[0m\n\u001b[1;32m      9\u001b[0m         \u001b[0mcc_y\u001b[0m \u001b[0;34m=\u001b[0m \u001b[0mcl\u001b[0m\u001b[0;34m.\u001b[0m\u001b[0mclustercenters\u001b[0m\u001b[0;34m[\u001b[0m\u001b[0;34m:\u001b[0m\u001b[0;34m,\u001b[0m\u001b[0mw\u001b[0m\u001b[0;34m]\u001b[0m\u001b[0;34m\u001b[0m\u001b[0;34m\u001b[0m\u001b[0m\n",
      "\u001b[0;31mIndexError\u001b[0m: index 3 is out of bounds for axis 1 with size 3"
     ]
    },
    {
     "data": {
      "image/png": "[encoded data removed]",
      "text/plain": [
       "<Figure size 1440x244.8 with 9 Axes>"
      ]
     },
     "metadata": {
      "needs_background": "light"
     },
     "output_type": "display_data"
    }
   ],
   "source": [
    "#plotting the free energy in subplots for tics 0-5\n",
    "\n",
    "for s in range(6):\n",
    "    fig, ax = plt.subplots(1, 6, sharex='col', sharey='row', figsize = (20,3.4)) #creating 1x6 subplot grid\n",
    "    \n",
    "    for w in range(6):\n",
    "        mplt.plot_free_energy(np.vstack(Ypca)[:,s], np.vstack(Ypca)[:,w], ax = ax[w], cmap = 'viridis')#, cbar = False, cbar_label = None)\n",
    "        cc_x = cl.clustercenters[:,s]\n",
    "        cc_y = cl.clustercenters[:,w]\n",
    "        #ax[w].plot(cc_x,cc_y, linewidth=0, marker='o', markersize=5, color='red')\n",
    "        colors = ['black','gray','red','saddlebrown','darkorange','gold','darkgreen','aqua','darkviolet','deeppink']\n",
    "        for i in range(10):\n",
    "            ax[w].scatter(cc_x[i], cc_y[i], color = colors[i])\n",
    "    \n",
    "    for a in range(6):\n",
    "        ax[a].set(xlabel = ('PC '+str(a)))\n",
    "        \n",
    "    fig.text(0.001, 0.5, 'PC '+str(s), va = 'center', rotation='vertical')\n",
    "    \n",
    "    fig.suptitle('PCA holo CBA Cluster Centroids',fontsize = 16, y=1.06)\n",
    "    fig.tight_layout()\n",
    "\n",
    "    #plt.savefig('/home/jegan/Clustering_methods/PCA/figs/PCA_all_atoms_FE/PCA_FE_PC'+str(s)+'.png', bbox_inches = 'tight')\n"
   ]
  },
  {
   "cell_type": "code",
   "execution_count": 10,
   "metadata": {},
   "outputs": [
    {
     "name": "stdout",
     "output_type": "stream",
     "text": [
      "483\n",
      "300000\n"
     ]
    }
   ],
   "source": [
    "print(np.size(pca_obj.cumvar))\n",
    "#print(pca_obj.cumvar)\n",
    "print(np.size(Ypca[0]))"
   ]
  },
  {
   "cell_type": "code",
   "execution_count": 11,
   "metadata": {},
   "outputs": [
    {
     "name": "stdout",
     "output_type": "stream",
     "text": [
      "[array([6, 6, 7, ..., 7, 7, 6], dtype=int32), array([0, 0, 0, ..., 0, 0, 0], dtype=int32), array([2, 2, 2, ..., 2, 2, 2], dtype=int32), array([3, 3, 3, ..., 3, 3, 3], dtype=int32), array([4, 4, 8, ..., 4, 4, 8], dtype=int32)]\n",
      "[6 6 7 ... 7 7 6]\n",
      "100000\n",
      "21277\n",
      "100000\n",
      "100000\n",
      "47914\n",
      "17348\n",
      "17260\n",
      "22306\n",
      "52086\n",
      "21809\n",
      "500000\n"
     ]
    }
   ],
   "source": [
    "#This prints the discrete trajectories we saved out before, then saves out the percent of frames in each cluster\n",
    "print(dtrajs)\n",
    "print(dtrajs[0])\n",
    "\n",
    "with open('/home/jegan/Clustering_methods/PCA/holo_CBA.txt', 'w') as newfile:\n",
    "    numb = []\n",
    "    for i in range(10):\n",
    "        frames = []\n",
    "        for k in dtrajs:\n",
    "            for p in k:\n",
    "                if p == i:\n",
    "                    frames.append(p)\n",
    "\n",
    "        print(len(frames))\n",
    "        numb.append(len(frames))\n",
    "    \n",
    "    newfile.write('Percent of frames per PCA CBA cluster on the holo md:\\n')\n",
    "    tot = 0\n",
    "    index = 0\n",
    "    for j in numb:\n",
    "        tot += j\n",
    "        percent = (j/450000)*100\n",
    "        num = str(percent)\n",
    "        newfile.write('Cluster '+ str(index)+' = '+num+' %\\n')\n",
    "        index += 1\n",
    "    print(tot)\n"
   ]
  },
  {
   "cell_type": "code",
   "execution_count": null,
   "metadata": {},
   "outputs": [],
   "source": [
    "#From here on it's clustering and extracting centroids, as well as saving out the centroid coords"
   ]
  },
  {
   "cell_type": "code",
   "execution_count": 13,
   "metadata": {},
   "outputs": [
    {
     "name": "stdout",
     "output_type": "stream",
     "text": [
      "74880\n",
      "55396\n",
      "43977\n",
      "51981\n",
      "6973\n",
      "134740\n",
      "274536\n",
      "40528\n",
      "292580\n",
      "425540\n"
     ]
    }
   ],
   "source": [
    "#Extracting Centroids\n",
    "\n",
    "avg = [100, 100, 100, 100, 100, 100, 100, 100, 100, 100]\n",
    "\n",
    "indices = {}\n",
    "for i in range(len(Ypca)):\n",
    "    #for k in range(len(Y[0][i])):\n",
    "    for k in range(len(Ypca[i])):\n",
    "        c = cl.clustercenters[cl.dtrajs[i][k]]\n",
    "        v = Ypca[i][k]\n",
    "        newavg = np.linalg.norm(c-v)\n",
    "        if avg[cl.dtrajs[i][k]] > newavg:\n",
    "            avg[cl.dtrajs[i][k]] = newavg\n",
    "            indices[cl.dtrajs[i][k]] = [i, k]\n",
    "\n",
    "pdb0 = md.load('/home/jegan/final_centroids/XTAL/XTAL_0.pdb')\n",
    "z = 0\n",
    "for key in indices:\n",
    "        z = z + 1\n",
    "        index = indices[key][1]*(1 + indices[key][0])\n",
    "        print(index)\n",
    "        \n",
    "        cen = md.load_frame('/net/jam-amaro-shared/bccgc4/CatS_holo_md/joined_md/entire_holo_md.nc', index, top = '/net/jam-amaro-shared/bccgc4/CatS_holo_md/joined_md/holo_top.h5')\n",
    "        pdb = cen.superpose(pdb0,0)\n",
    "        \n",
    "        pdb.save_pdb('/home/jegan/Clustering_methods/PCA/PCA_CBA_holo_centroids/PCA_CBA_%s.pdb' % (z-1))"
   ]
  },
  {
   "cell_type": "code",
   "execution_count": null,
   "metadata": {},
   "outputs": [],
   "source": []
  }
 ],
 "metadata": {
  "kernelspec": {
   "display_name": "Python 3",
   "language": "python",
   "name": "python3"
  },
  "language_info": {
   "codemirror_mode": {
    "name": "ipython",
    "version": 3
   },
   "file_extension": ".py",
   "mimetype": "text/x-python",
   "name": "python",
   "nbconvert_exporter": "python",
   "pygments_lexer": "ipython3",
   "version": "3.7.6"
  }
 },
 "nbformat": 4,
 "nbformat_minor": 4
}
