{
 "cells": [
  {
   "cell_type": "code",
   "execution_count": null,
   "metadata": {},
   "outputs": [],
   "source": [
    "# cod to make ktau comparison figure against random"
   ]
  },
  {
   "cell_type": "code",
   "execution_count": 7,
   "metadata": {},
   "outputs": [],
   "source": [
    "import numpy as np\n",
    "import scipy.stats as stats\n",
    "from numpy.random import rand\n",
    "import matplotlib.pyplot as plt\n",
    "from scipy.stats import norm  "
   ]
  },
  {
   "cell_type": "code",
   "execution_count": 8,
   "metadata": {},
   "outputs": [],
   "source": [
    "with open('./ranking.csv','w') as writefile:\n",
    "    \n",
    "    ref = open('./Answers.csv','r')\n",
    "    for rank,line in enumerate(ref,1):\n",
    "        newline = str(rank)+ line[line.index(','):]\n",
    "        writefile.write(newline)"
   ]
  },
  {
   "cell_type": "code",
   "execution_count": 9,
   "metadata": {},
   "outputs": [
    {
     "name": "stdout",
     "output_type": "stream",
     "text": [
      "-0.0002399125903544141\n",
      "0.03127695193683465\n"
     ]
    }
   ],
   "source": [
    "# calculating random ranks\n",
    "\n",
    "with open(\"./Answers.csv\",\"r\") as input_file:\n",
    "    content1 = input_file.readlines()\n",
    "contentScore = [x.strip().split(',')[1] for x in content1] \n",
    "#contentLigand = [x.strip().split(',')[0] for x in content1]\n",
    "# Note: \n",
    "\n",
    "kendallNew = []\n",
    "\n",
    "for i in range(10000):\n",
    "    random = []\n",
    "    for i in range(459):\n",
    "        randomNum = np.random.randint(1,460)\n",
    "        random.append(randomNum)\n",
    "    tau = stats.kendalltau(random,rank2)\n",
    "    kendallNew.append(tau[0])\n",
    "    \n",
    "\n",
    "average = np.mean(kendallNew)\n",
    "print(average)\n",
    "\n",
    "standard_Deviation = np.std(kendallNew)\n",
    "print(standard_Deviation)\n"
   ]
  },
  {
   "cell_type": "code",
   "execution_count": null,
   "metadata": {
    "jupyter": {
     "source_hidden": true
    }
   },
   "outputs": [],
   "source": [
    "#finds the mean and standard deviation of a random ranking Kendall's Tau\n",
    "with open(\"/home/dhkumar/Downloads/ProteinRanks.csv\",\"r\") as input_file:\n",
    "    content1 = input_file.readlines()\n",
    "contentScore = [x.strip().split(',')[2] for x in content1] \n",
    "contentLigand = [x.strip().split(',')[0] for x in content1]\n",
    "\n",
    "\n",
    "Score = contentScore[1:460]\n",
    "Score.reverse()\n",
    "Score = [ float(x) for x in Score ]\n",
    "\n",
    "Ligand = contentLigand[1:460]\n",
    "Ligand.reverse()\n",
    "Ligand = [ int(x) for x in Ligand ]\n",
    "\n",
    "Rank = np.arange(1,460)\n",
    "\n",
    "for i in range(0,457):\n",
    "    if Score[i] == Score[i+1]:\n",
    "        Rank[i+1] = Rank[i]\n",
    "\n",
    "rank2 = np.arange(459)\n",
    "for i in range(len(Rank)):\n",
    "    rank2[Ligand[i]-1] = Rank[i]\n",
    "\n",
    "kendallNew = []\n",
    "\n",
    "for i in range(10000):\n",
    "    random = []\n",
    "    for i in range(459):\n",
    "        randomNum = np.random.randint(1,460)\n",
    "        random.append(randomNum)\n",
    "    tau = stats.kendalltau(random,rank2)\n",
    "    kendallNew.append(tau[0])\n",
    "    \n",
    "\n",
    "average = np.mean(kendallNew)\n",
    "print(average)\n",
    "\n",
    "standard_Deviation = np.std(kendallNew)\n",
    "print(standard_Deviation)"
   ]
  },
  {
   "cell_type": "code",
   "execution_count": 10,
   "metadata": {},
   "outputs": [],
   "source": [
    "# gaussian distributed random numbers with mu =4 and sigma=2                     \n",
    "x = kendallNew\n",
    "\n",
    "mean = np.mean(x)\n",
    "sigma = np.std(x)\n",
    "\n",
    "x_plot = np.linspace(min(x), max(x), 1000)                                                               \n"
   ]
  },
  {
   "cell_type": "code",
   "execution_count": 11,
   "metadata": {},
   "outputs": [],
   "source": [
    "Norm = norm.pdf(x_plot,mean,sigma)\n",
    "\n",
    "#finds the bins that are within the first SD\n",
    "SD1 = []\n",
    "for i in x_plot:\n",
    "    if i <=mean+standard_Deviation and i>=mean-standard_Deviation:\n",
    "        SD1.append(i)\n",
    "\n",
    "#lower bound of SD1\n",
    "SD1Low = min(SD1)\n",
    "\n",
    "#upper bound of SD1\n",
    "SD1High= max(SD1)\n",
    "\n",
    "SD1LowBin = 0\n",
    "SD1HighBin = 0\n",
    "for i in range(len(x_plot)):\n",
    "    if x_plot[i] == SD1Low:\n",
    "        SD1LowBin = i \n",
    "    if x_plot[i] == SD1High:\n",
    "        SD1HighBin = i    \n",
    "\n",
    "x_plotnew1 = x_plot[SD1LowBin:SD1HighBin]\n",
    "width1 = x_plotnew1[1]-x_plotnew1[0]\n",
    "norm_values1 = Norm[SD1LowBin:SD1HighBin]\n"
   ]
  },
  {
   "cell_type": "code",
   "execution_count": 12,
   "metadata": {},
   "outputs": [],
   "source": [
    "SD2 = []\n",
    "for i in x_plot:\n",
    "    if i <=mean+(2*standard_Deviation) and i>=mean-(2*standard_Deviation):\n",
    "        SD2.append(i)\n",
    "        \n",
    "#lower bound of SD2\n",
    "SD2Low = min(SD2)\n",
    "\n",
    "#upper bound of SD2\n",
    "SD2High= max(SD2)\n",
    "\n",
    "SD2LowBin = 0\n",
    "SD2HighBin = 0\n",
    "for i in range(len(x_plot)):\n",
    "    if x_plot[i] == SD2Low:\n",
    "        SD2LowBin = i \n",
    "    if x_plot[i] == SD2High:\n",
    "        SD2HighBin = i    \n",
    "\n",
    "\n",
    "x_plotnew2 = x_plot[SD2LowBin:SD2HighBin]\n",
    "norm_values2 = Norm[SD2LowBin:SD2HighBin]\n"
   ]
  },
  {
   "cell_type": "code",
   "execution_count": 71,
   "metadata": {},
   "outputs": [],
   "source": [
    "import matplotlib as mplt\n",
    "\n",
    "font = {'family' : 'sans-serif',\n",
    "        'sans-serif': 'Arial'}\n",
    "\n",
    "mplt.rc('font', **font)"
   ]
  },
  {
   "cell_type": "code",
   "execution_count": 89,
   "metadata": {},
   "outputs": [
    {
     "data": {
      "image/png": "[encoded data removed]",
      "text/plain": [
       "<Figure size 230.4x165.6 with 1 Axes>"
      ]
     },
     "metadata": {
      "needs_background": "light"
     },
     "output_type": "display_data"
    }
   ],
   "source": [
    "#PDF\n",
    "plt.figure(figsize=(3.2,2.3))\n",
    "plt.plot(x_plot, norm.pdf(x_plot, mean, sigma), 'r-', color = 'black', linewidth=2)    \n",
    "\n",
    "#Coloring the Standard Deviations\n",
    "plt.bar(x_plot, Norm, width1, align = 'edge', alpha = 0.75, color = 'lightsteelblue') \n",
    "plt.bar(x_plotnew2, norm_values2, width1, align = 'edge', alpha = 0.75, color = 'cornflowerblue')\n",
    "plt.bar(x_plotnew1, norm_values1, width1, align = 'edge',alpha = 0.75, color = 'royalblue')\n",
    "\n",
    "#Vertical lines for Kendall's Taus\n",
    "#uncomment code as needed to make different figures\n",
    "\n",
    "#OpenEye, Avg\n",
    "#plt.axvline(mean, color = 'gold', linestyle = '--', ymax = 12.630594844422115/20, label = 'Random(' + r\"$\\tau$\"+' = -0.0001)')\n",
    "#plt.axvline(-0.098, color = 'green', label = 'Gromos(' + r\"$\\tau$\"+' = 0.224)')\n",
    "#plt.axvline(-0.097, color = 'blue', label = 'Gromos CBA(' + r\"$\\tau$\"+' = 0.123)')\n",
    "#plt.axvline(-0.088, color = 'orange', label = 'PCA(' + r\"$\\tau$\"+' = 0.178)')\n",
    "#plt.axvline(-0.209, color = 'red', label = 'PCA CBA(' + r\"$\\tau$\"+' = 0.283)')\n",
    "#plt.axvline(-0.131, color = 'brown', label = 'TICA(' + r\"$\\tau$\"+' = 0.180)')\n",
    "#plt.axvline(-0.090, color = 'purple', label = 'TICA CBA(' + r\"$\\tau$\"+' = 0.166)')\n",
    "\n",
    "#OpenEye, WA\n",
    "#plt.axvline(mean, color = 'gold', linestyle = '--', ymax = 12.630594844422115/20, label = 'Random(' + r\"$\\tau$\"+' = -0.0001)')\n",
    "#plt.axvline(-0.043, color = 'green', label = 'Gromos(' + r\"$\\tau$\"+' = 0.224)')\n",
    "#plt.axvline(-0.058, color = 'brown', label = 'Gromos CBA(' + r\"$\\tau$\"+' = 0.123)')\n",
    "#plt.axvline(-0.199, color = 'orange', label = 'PCA(' + r\"$\\tau$\"+' = 0.178)')\n",
    "#plt.axvline(-0.093, color = 'red', label = 'PCA CBA(' + r\"$\\tau$\"+' = 0.283)')\n",
    "#plt.axvline(-0.109, color = 'blue', label = 'TICA(' + r\"$\\tau$\"+' = 0.180)')\n",
    "#plt.axvline(-0.112, color = 'purple', label = 'TICA CBA(' + r\"$\\tau$\"+' = 0.166)')\n",
    "\n",
    "# OpenEye, Lowest\n",
    "#plt.axvline(mean, color = 'gold', label = 'Random(' + r\"$\\tau$\"+' = -0.0001)')\n",
    "#plt.axvline(-0.18, color = 'b', label = 'PCA')\n",
    "#plt.axvline(-0.05, color = 'b', linestyle = '--',label = 'PCA CBA')\n",
    "#plt.axvline(0.04, color = 'r', label = 'TICA')\n",
    "#plt.axvline(-0.06, color = 'g', ymin = 0.5,label = 'Gromos')\n",
    "#plt.axvline(-0.06, color = 'r',linestyle = '--', ymax = 0.5, label = 'TICA CBA')\n",
    "#plt.axvline(-0.08, color = 'magenta',ymin = 0.5,label = 'XTAL')\n",
    "#plt.axvline(-0.08, color = 'g',linestyle = '--',ymax = 0.5, label = 'Gromos CBA')\n",
    "\n",
    "\n",
    "\n",
    "\n",
    "#Glide, Avg\n",
    "#plt.axvline(mean, color = 'gold', linestyle = '--', ymax = 12.630594844422115/20, label = 'Random(' + r\"$\\tau$\"+' = -0.0001)')\n",
    "#plt.axvline(0.245, color = 'green', label = 'Gromos(' + r\"$\\tau$\"+' = 0.224)')\n",
    "#plt.axvline(0.225, color = 'blue', label = 'Gromos CBA(' + r\"$\\tau$\"+' = 0.123)')\n",
    "#plt.axvline(0.209, color = 'orange', label = 'PCA(' + r\"$\\tau$\"+' = 0.178)')\n",
    "#plt.axvline(0.244, color = 'red', label = 'PCA CBA(' + r\"$\\tau$\"+' = 0.283)')\n",
    "#plt.axvline(0.197, color = 'brown', label = 'TICA(' + r\"$\\tau$\"+' = 0.180)')\n",
    "#plt.axvline(0.201, color = 'purple', label = 'TICA CBA(' + r\"$\\tau$\"+' = 0.166)')\n",
    "\n",
    "#Glide, WA\n",
    "#plt.axvline(mean, color = 'gold', linestyle = '--', ymax = 12.630594844422115/20, label = 'Random(' + r\"$\\tau$\"+' = -0.0001)')\n",
    "#plt.axvline(0.183, color = 'green', label = 'Gromos(' + r\"$\\tau$\"+' = 0.224)')\n",
    "#plt.axvline(0.210, color = 'blue', label = 'Gromos CBA(' + r\"$\\tau$\"+' = 0.123)')\n",
    "#plt.axvline(0.203, color = 'orange', label = 'PCA(' + r\"$\\tau$\"+' = 0.178)')\n",
    "#plt.axvline(0.242, color = 'red', label = 'PCA CBA(' + r\"$\\tau$\"+' = 0.283)')\n",
    "#plt.axvline(0.207, color = 'brown', label = 'TICA(' + r\"$\\tau$\"+' = 0.180)')\n",
    "#plt.axvline(0.172, color = 'purple', label = 'TICA CBA(' + r\"$\\tau$\"+' = 0.166)')\n",
    "\n",
    "  \n",
    "#Glide , Lowest\n",
    "plt.axvline(mean, color = 'gold', label = 'Random')#(' + r\"$\\tau$\"+' = -0.0001)')\n",
    "plt.axvline(0.23, color = 'chocolate', label = 'Cocrystal')#('+r'$\\tau$'+' = 0.232)')\n",
    "plt.axvline(0.20, color = 'salmon', ymin = 10.0/20, label = 'XTAL')#(' + r\"$\\tau$\"+' = 0.166)')\n",
    "\n",
    "plt.axvline(0.18, color = 'mediumorchid', label = 'TICA')#(' + r\"$\\tau$\"+' = 0.180)')\n",
    "plt.axvline(0.12, color = 'mediumorchid', linestyle = '--', label = 'TICA\\nCBA')#(' + r\"$\\tau$\"+' = 0.166)')\n",
    "plt.axvline(0.20, color = 'steelblue', ymax = 10.0/20,label = 'PCA')#(' + r\"$\\tau$\"+' = 0.178)')\n",
    "plt.axvline(0.28, color = 'steelblue', linestyle = '--', label = 'PCA\\nCBA')#(' + r\"$\\tau$\"+' = 0.283)')\n",
    "plt.axvline(0.22, color = 'olivedrab', label = 'Gromos')#(' + r\"$\\tau$\"+' = 0.224)')\n",
    "plt.axvline(0.12, color = 'olivedrab', linestyle = '--', ymax = 10.0/20,label = 'Gromos\\nCBA')#(' + r\"$\\tau$\"+' = 0.123)')\n",
    "\n",
    "plt.xlim(-0.20,0.30)\n",
    "\n",
    "\n",
    "\n",
    "plt.ylim(top=20)\n",
    "plt.xlabel(\"Kendall's \"+ r\"$\\tau$\")\n",
    "plt.ylabel('Probability Density')\n",
    "plt.legend(ncol = 4, bbox_to_anchor=(0.93, -0.7, 0.2, 0.4),  prop={'size': 8})\n",
    "#plt.tight_layout()\n",
    "#plt.title(\"Clustering Methods vs Random Rank Ordering \\n (OpenEye: WA)\")\n",
    "#plt.savefig('./ktau_random.pdf', dpi = 300)\n",
    "plt.savefig('./legend.png', dpi = 300,bbox_inches = 'tight')\n"
   ]
  },
  {
   "cell_type": "code",
   "execution_count": 13,
   "metadata": {
    "collapsed": true,
    "jupyter": {
     "outputs_hidden": true
    }
   },
   "outputs": [
    {
     "data": {
      "image/png": "[encoded data removed]",
      "text/plain": [
       "<Figure size 432x288 with 1 Axes>"
      ]
     },
     "metadata": {
      "needs_background": "light"
     },
     "output_type": "display_data"
    },
    {
     "data": {
      "image/png": "[encoded data removed]",
      "text/plain": [
       "<Figure size 936x288 with 1 Axes>"
      ]
     },
     "metadata": {
      "needs_background": "light"
     },
     "output_type": "display_data"
    }
   ],
   "source": [
    "#used to create legend of specified width\n",
    "plt.subplot(1,1,1)\n",
    "plt.figure(figsize=(13,4))\n",
    "\n",
    "plt.axvline(mean, color = 'gold', ymax = 12.630594844422115/20, label = '<Random>')\n",
    "\n",
    "plt.axvline(-0.04, color = 'magenta', label = 'XTAL')\n",
    "\n",
    "plt.axvline(-0.04, color = 'r', label = 'TICA')\n",
    "plt.axvline(-0.18, color = 'b', label = 'PCA')\n",
    "plt.axvline(-0.06, color = 'g', label = 'Gromos')\n",
    "\n",
    "plt.axvline(-0.06, color = 'r', linestyle = '--', label = 'TICA CBA')\n",
    "plt.axvline(-0.05, color = 'b', linestyle = '--', label = 'PCA CBA')\n",
    "plt.axvline(-0.08, color = 'g', linestyle = '--', label = 'Gromos CBA')\n",
    "\n",
    "\n",
    "\n",
    "\n",
    "\n",
    "# Place a legend above this subplot, expanding itself to\n",
    "# fully use the given bounding box.\n",
    "plt.legend(bbox_to_anchor=(0., 1.02, 1., .102), loc='lower left',\n",
    "           ncol=8, mode=\"expand\", borderaxespad=0.)\n",
    "#plt.savefig(\"/home/dhkumar/Pictures/figures/RandomFig/Scale1.pdf\")\n",
    "plt.show()\n"
   ]
  },
  {
   "cell_type": "code",
   "execution_count": null,
   "metadata": {},
   "outputs": [],
   "source": []
  }
 ],
 "metadata": {
  "kernelspec": {
   "display_name": "Python 3",
   "language": "python",
   "name": "python3"
  },
  "language_info": {
   "codemirror_mode": {
    "name": "ipython",
    "version": 3
   },
   "file_extension": ".py",
   "mimetype": "text/x-python",
   "name": "python",
   "nbconvert_exporter": "python",
   "pygments_lexer": "ipython3",
   "version": "3.7.6"
  }
 },
 "nbformat": 4,
 "nbformat_minor": 4
}
