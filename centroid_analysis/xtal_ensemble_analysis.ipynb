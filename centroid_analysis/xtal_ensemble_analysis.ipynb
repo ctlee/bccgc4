{
 "cells": [
  {
   "cell_type": "code",
   "execution_count": null,
   "metadata": {},
   "outputs": [],
   "source": [
    "#notebook to do cocrystal analysis of the glide poses"
   ]
  },
  {
   "cell_type": "code",
   "execution_count": 15,
   "metadata": {},
   "outputs": [],
   "source": [
    "import mdtraj as md\n",
    "import glob\n",
    "import numpy as np\n",
    "import math\n",
    "\n",
    "import pandas as pd\n",
    "\n",
    "import matplotlib.pyplot as plt\n",
    "from matplotlib.pyplot import cm\n",
    "import matplotlib as mplt\n",
    "from mpl_toolkits.axes_grid1 import make_axes_locatable\n",
    "\n",
    "font = {'family' : 'sans-serif',\n",
    "        'sans-serif': 'Arial'}\n",
    "\n",
    "mplt.rc('font', **font)"
   ]
  },
  {
   "cell_type": "code",
   "execution_count": 3,
   "metadata": {},
   "outputs": [
    {
     "name": "stdout",
     "output_type": "stream",
     "text": [
      "55\n"
     ]
    }
   ],
   "source": [
    "\n",
    "coxtals = glob.glob('/home/jegan/cocrystals/prepared_1/*')\n",
    "coxnames = [name.split('/')[5][:4] for name in coxtals]\n",
    "coxnames.sort()\n",
    "#print(coxnames)\n",
    "print(len(coxnames))\n"
   ]
  },
  {
   "cell_type": "code",
   "execution_count": 5,
   "metadata": {},
   "outputs": [],
   "source": [
    "#definition of new binding atoms that are present in all cocrystals (check_pdbs_binding.py)\n",
    "\n",
    "file = '/home/jegan/cocrystals/new_binding_atoms.csv'     \n",
    "df0 = pd.read_csv(file)\n",
    "#print(df0['Num'])\n",
    "new_binding = [1035, 1038, 1040, 1044, 2854, 2116, 323, 1133, 1135, 3208, 2214, 2220, 1715, 3312, 3316, 328, 339, 342, 350, 359, 361, 363, 366, 367, 2452, 2454, 2465, 2469, 2473, 2475, 946, 2487, 2835, 963, 2506, 2839, 2844, 1008, 1009, 1013, 1016]\n",
    "\n",
    "\n",
    "def select_string(lis):\n",
    "    s = ''\n",
    "    for x in lis:\n",
    "        s += 'index '+str(x)+' or '\n",
    "    return s[:-4]\n",
    "\n",
    "def b_ats_coxtal(traj): #binding atom residue indices for cocrystals\n",
    "    indices = []\n",
    "    err = []\n",
    "    for x in range(len(df0['Res'])):\n",
    "        name = df0['Res'][x]\n",
    "        num = df0['Num'][x]\n",
    "        typ = df0['Typ'][x]\n",
    "        \n",
    "        target = traj.topology.select('name '+typ+' and resname '+name+' and residue '+str(int(num)-1))\n",
    "        #target = traj.topology.select('residue')\n",
    "        if len(target) != 0:\n",
    "            indices.append(target[0])\n",
    "        else:\n",
    "            err.append([name, num-1, typ])\n",
    "    return indices, err\n",
    "    "
   ]
  },
  {
   "cell_type": "code",
   "execution_count": 21,
   "metadata": {},
   "outputs": [
    {
     "name": "stdout",
     "output_type": "stream",
     "text": [
      "[2.111923, 4.2015476, 4.2217727, 1.6962566, 1.5632322, 0.8091668, 0.72996444, 1.360714, 1.5335422, 5.4911585, 4.328657, 0.7198247, 0.97354716, 2.1266215, 1.4655771, 0.9061814, 1.6706175, 1.7009344, 1.6917144, 0.7505893, 0.61415786, 0.55308366, 0.7981219, 0.8764097, 0.7977954, 0.858801, 0.74968386, 0.6480367, 0.9056165, 0.753941, 0.5773636, 1.6823775, 1.7062539, 0.40704805, 0.0, 0.964435, 0.43543056, 1.6391045, 0.74737185, 0.5742774, 0.7262459, 0.6979985, 0.63886935, 0.9085399, 0.5260453, 0.9469697, 0.8145874, 0.80483186, 0.95630676, 0.930447, 7.2160654, 7.2280884, 7.5375395, 7.238984, 7.2934575]\n"
     ]
    }
   ],
   "source": [
    "#calculating rmsds to 5qc4 in order for each coxtal\n",
    "\n",
    "rmsds = []\n",
    "path = '/home/jegan/cocrystals/prepared_1/'\n",
    "\n",
    "ref = md.load(path+'5qc4.pdb')\n",
    "ref_ind = b_ats_coxtal(ref)\n",
    "ref_sel = ref.atom_slice(ref.topology.select(select_string(ref_ind[0])))\n",
    "\n",
    "#print(ref_sel)\n",
    "for x in coxnames:\n",
    "    target = md.load(path+x+'.pdb')\n",
    "    tar_ind = b_ats_coxtal(target)\n",
    "    tar_sel = target.atom_slice(target.topology.select(select_string(ref_ind[0])))\n",
    "    #print(tar_sel)\n",
    "    rmsd = md.rmsd(tar_sel, ref_sel) *10\n",
    "    rmsds.append(rmsd[0])\n",
    "print(rmsds) "
   ]
  },
  {
   "cell_type": "code",
   "execution_count": 23,
   "metadata": {},
   "outputs": [
    {
     "name": "stdout",
     "output_type": "stream",
     "text": [
      "55\n"
     ]
    }
   ],
   "source": [
    "print(len(rmsds))"
   ]
  },
  {
   "cell_type": "code",
   "execution_count": 36,
   "metadata": {},
   "outputs": [
    {
     "name": "stdout",
     "output_type": "stream",
     "text": [
      "459\n"
     ]
    }
   ],
   "source": [
    "#getting receptor numbers\n",
    "\n",
    "data = pd.read_csv('/scratch/jegan/GLIDE_coxtal_docking/coxtal_docking/scores.csv')\n",
    "receps = [int(x) for x in data['best receptor'] if not math.isnan(x)]\n",
    "print(len(receps))\n",
    "#print(receps)"
   ]
  },
  {
   "cell_type": "code",
   "execution_count": 58,
   "metadata": {},
   "outputs": [
    {
     "name": "stdout",
     "output_type": "stream",
     "text": [
      "459\n",
      "459\n"
     ]
    },
    {
     "data": {
      "image/png": "[encoded data removed]",
      "text/plain": [
       "<Figure size 432x288 with 1 Axes>"
      ]
     },
     "metadata": {
      "needs_background": "light"
     },
     "output_type": "display_data"
    }
   ],
   "source": [
    "# looking at the rmsds of the receptors to the original pose we used\n",
    "# ranked for the cocrystal structures\n",
    "\n",
    "fig, ax = plt.subplots()\n",
    "\n",
    "x = range(1,460)\n",
    "y = [rmsds[p-1] for p in receps]\n",
    "\n",
    "print(len(x))\n",
    "print(len(y))\n",
    "\n",
    "ax.scatter(x, y)\n",
    "\n",
    "ax.set_xlabel('Pose Ranking')\n",
    "ax.set_ylabel('RMSD of receptor to 5qc4')\n",
    "plt.savefig('./figures/rank_rmsd.png', dpi = 300)"
   ]
  },
  {
   "cell_type": "code",
   "execution_count": 90,
   "metadata": {},
   "outputs": [
    {
     "name": "stdout",
     "output_type": "stream",
     "text": [
      "459\n",
      "459\n"
     ]
    },
    {
     "data": {
      "image/png": "[encoded data removed]",
      "text/plain": [
       "<Figure size 288x360 with 1 Axes>"
      ]
     },
     "metadata": {
      "needs_background": "light"
     },
     "output_type": "display_data"
    }
   ],
   "source": [
    "#seeing the most common receptors\n",
    "\n",
    "fig, ax = plt.subplots(figsize = (4,5))\n",
    "\n",
    "x = range(1,460)\n",
    "y =  receps\n",
    "\n",
    "print(len(x))\n",
    "print(len(y))\n",
    "\n",
    "ax.scatter(x, y)\n",
    "\n",
    "ax.set_xlabel('Pose Ranking')\n",
    "ax.set_yticks(range(1,len(coxnames)+1))\n",
    "ax.set_yticklabels(coxnames)\n",
    "ax.set_ylabel('Receptor (ordered)')\n",
    "plt.tick_params(axis='y', which='major', labelsize=10)\n",
    "plt.tight_layout()\n",
    "\n",
    "plt.savefig('./figures/rank_recep.png', dpi = 300)"
   ]
  },
  {
   "cell_type": "code",
   "execution_count": 68,
   "metadata": {},
   "outputs": [
    {
     "data": {
      "text/plain": [
       "8"
      ]
     },
     "execution_count": 68,
     "metadata": {},
     "output_type": "execute_result"
    }
   ],
   "source": [
    "from collections import Counter\n",
    "test = Counter(receps)"
   ]
  },
  {
   "cell_type": "code",
   "execution_count": 91,
   "metadata": {},
   "outputs": [
    {
     "name": "stdout",
     "output_type": "stream",
     "text": [
      "55\n",
      "55\n"
     ]
    },
    {
     "data": {
      "image/png": "[encoded data removed]",
      "text/plain": [
       "<Figure size 288x360 with 2 Axes>"
      ]
     },
     "metadata": {
      "needs_background": "light"
     },
     "output_type": "display_data"
    }
   ],
   "source": [
    "\n",
    "fig, ax = plt.subplots(figsize = (4,5))\n",
    "\n",
    "x = range(1, max(receps)+1)\n",
    "y = [Counter(receps)[p] for p in x]\n",
    "\n",
    "print(len(x))\n",
    "print(len(y))\n",
    "\n",
    "#ax.set_yticks(range(len(coxnames)+1))\n",
    "#ax.set_yticklabels(coxnames)\n",
    "ax.set_xlabel('# of occurences')\n",
    "\n",
    "ax.set_yticklabels([]) # Hide the left y-axis tick-labels\n",
    "ax.set_yticks([]) # Hide the left y-axis ticks\n",
    "ax.invert_xaxis() \n",
    "ax1 = ax.twinx() # Create a twin x-axis\n",
    "ax1.barh(x, y) # Plot using `ax1` instead of `ax`\n",
    "ax1.set_yticks(range(len(coxnames)+1))\n",
    "ax1.set_yticklabels([])\n",
    "#ax1.set_ylabel('Receptors')\n",
    "\n",
    "plt.savefig('./figures/rank_occurences.png', dpi = 300)"
   ]
  },
  {
   "cell_type": "code",
   "execution_count": 74,
   "metadata": {},
   "outputs": [
    {
     "name": "stdout",
     "output_type": "stream",
     "text": [
      "{'2op3': 11, '2r9n': 12, '2r9o': 38, '5qbz': 18, '5qc0': 22, '5qc2': 31, '5qc4': 23, '5qc5': 12, '5qc6': 17, '5qc7': 40, '5qc9': 32, '5qcc': 28, '5qcd': 50}\n"
     ]
    }
   ],
   "source": [
    "score = {}\n",
    "\n",
    "for ind,v in enumerate(y):\n",
    "    if v > 10:\n",
    "        name = coxnames[ind -1]\n",
    "        score[name] = v\n",
    "print(score)"
   ]
  },
  {
   "cell_type": "code",
   "execution_count": null,
   "metadata": {},
   "outputs": [],
   "source": []
  }
 ],
 "metadata": {
  "kernelspec": {
   "display_name": "Python 3",
   "language": "python",
   "name": "python3"
  },
  "language_info": {
   "codemirror_mode": {
    "name": "ipython",
    "version": 3
   },
   "file_extension": ".py",
   "mimetype": "text/x-python",
   "name": "python",
   "nbconvert_exporter": "python",
   "pygments_lexer": "ipython3",
   "version": "3.7.6"
  }
 },
 "nbformat": 4,
 "nbformat_minor": 4
}
